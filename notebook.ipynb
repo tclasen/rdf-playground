{
 "cells": [
  {
   "cell_type": "markdown",
   "id": "streaming-latvia",
   "metadata": {},
   "source": [
    "# Introduction to the Semantic Web"
   ]
  },
  {
   "cell_type": "markdown",
   "id": "effective-capture",
   "metadata": {},
   "source": [
    "## Brief History\n",
    "\n",
    "* 1969: ARPAnet delivers first message\n",
    "* 1983: TCP/IP added to internet\n",
    "* 1989: WWW Invented along with HTTP proposed and implemented by [Tim Berners-Lee](https://en.wikipedia.org/wiki/Tim_Berners-Lee)\n",
    "* 1999: Term \"Semantic Web\" defined by [Tim Berners-Lee](https://en.wikipedia.org/wiki/Tim_Berners-Lee)\n",
    "* 1999: RDF recommendation adopted by W3C\n",
    "* 2004: RDF 1.0 spec published"
   ]
  },
  {
   "cell_type": "markdown",
   "id": "separated-filing",
   "metadata": {},
   "source": [
    "## Key Definitions\n",
    "\n",
    "[Semantic Web](https://www.w3.org/standards/semanticweb/)\n",
    "\n",
    "In addition to the classic “Web of documents” W3C is helping to build a technology stack to support a “Web of data,” the sort of data you find in databases. The ultimate goal of the Web of data is to enable computers to do more useful work and to develop systems that can support trusted interactions over the network. The term “Semantic Web” refers to W3C’s vision of the Web of linked data. Semantic Web technologies enable people to create data stores on the Web, build vocabularies, and write rules for handling data. Linked data are empowered by technologies such as RDF, SPARQL, OWL, and SKOS.\n",
    "\n",
    "[Linked Data](https://www.w3.org/standards/semanticweb/data.html)\n",
    "\n",
    "It is important to have the huge amount of data on the Web available in a standard format, reachable and manageable by Semantic Web tools. Furthermore, not only does the Semantic Web need access to data, but relationships among data should be made available, too, to create a Web of Data (as opposed to a sheer collection of datasets). This collection of interrelated datasets on the Web can also be referred to as Linked Data.\n",
    "\n",
    "[RDF (Resource Description Framework)](https://en.wikipedia.org/wiki/Resource_Description_Framework)\n",
    "\n",
    "The RDF data model is similar to classical conceptual modeling approaches (such as entity–relationship or class diagrams). It is based on the idea of making statements about resources (in particular web resources) in expressions of the form subject–predicate–object, known as triples. The subject denotes the resource, and the predicate denotes traits or aspects of the resource, and expresses a relationship between the subject and the object.\n",
    "\n",
    "[Ontology](https://www.w3.org/standards/semanticweb/ontology.html)\n",
    "\n",
    "On the Semantic Web, vocabularies define the concepts and relationships (also referred to as “terms”) used to describe and represent an area of concern. Vocabularies are used to classify the terms that can be used in a particular application, characterize possible relationships, and define possible constraints on using those terms. In practice, vocabularies can be very complex (with several thousands of terms) or very simple (describing one or two concepts only).\n",
    "\n",
    "There is no clear division between what is referred to as “vocabularies” and “ontologies”. The trend is to use the word “ontology” for more complex, and possibly quite formal collection of terms, whereas “vocabulary” is used when such strict formalism is not necessarily used or only in a very loose sense. Vocabularies are the basic building blocks for inference techniques on the Semantic Web."
   ]
  },
  {
   "cell_type": "markdown",
   "id": "advance-conversation",
   "metadata": {},
   "source": [
    "## References and Resources\n",
    "\n",
    "https://github.com/semantalytics/awesome-semantic-web"
   ]
  },
  {
   "cell_type": "markdown",
   "id": "stone-invitation",
   "metadata": {},
   "source": [
    "## What is actually in a URL?"
   ]
  },
  {
   "cell_type": "code",
   "execution_count": 1,
   "id": "political-diana",
   "metadata": {},
   "outputs": [
    {
     "data": {
      "text/plain": [
       "ParseResult(scheme='https', netloc='www.w3.org', path='/People/Berners-Lee/card', params='', query='', fragment='i')"
      ]
     },
     "execution_count": 1,
     "metadata": {},
     "output_type": "execute_result"
    }
   ],
   "source": [
    "from urllib.parse import urlparse\n",
    "\n",
    "urlparse(\"https://www.w3.org/People/Berners-Lee/card#i\")"
   ]
  },
  {
   "cell_type": "markdown",
   "id": "moved-dublin",
   "metadata": {},
   "source": [
    "## Building the URI (Uniform Resource Identifier)\n",
    "\n",
    "For most of our cases, the scheme will be http or https, but can really be any protocol used to communicate over a network.\n",
    "\n",
    "The netloc, also known as the authority, is the network device that hosts the data being referenced by the URI.\n",
    "\n",
    "The path represents the location of the component located at the authority, where the data can be retrieved.\n",
    "\n",
    "The fragment portion is part of the URN (Uniform Resource Name), and signifies which object at the URL, the URI is pointing to.\n",
    "\n",
    "Lastly, from here on we will be using the term IRI (International Resource Identifier), which is an international version of the URI."
   ]
  },
  {
   "cell_type": "markdown",
   "id": "protected-eclipse",
   "metadata": {},
   "source": [
    "## Working with RDF data\n",
    "\n",
    "RDF data is an implementation of an unstructured graph data structure. Not all RDF can be cleanly placed into a relational database, but all relational database data can be cleanly represented as a graph matrix where the Subject is the IRI pointing to the primary key, the Predicate is the IRI pointing to the definition of the column name in a table, and the Object is either a literaly value, or a IRI pointing to the foreign key.\n",
    "\n",
    "Data in RDFs can be one of 3 types:\n",
    "\n",
    "1. IRI\n",
    "   * When used in a RDF, the IRI is used to denote the absolute or relative location to the resource being referenced.\n",
    "2. Literal\n",
    "   * A basic value that are not IRIs. Such as strings, integers, or an instance of a concrete class.\n",
    "3. Blank Node\n",
    "   * An anonymous reference to an object without an IRI. Usually used as a container type to reference a collection of RDF statements\n",
    "\n",
    "\n",
    "* Subject\n",
    "  * IRI\n",
    "  * Blank Node\n",
    "* Predicate\n",
    "  * IRI\n",
    "* Object\n",
    "  * IRI (Denotes a forign key when describing relational database data)\n",
    "  * Literal\n",
    "  * Blank Node\n",
    "  \n",
    "Example:\n",
    "\n",
    "*Table Name: People*\n",
    "\n",
    "|ID|Name|Age|Type|Knows|\n",
    "|--|----|---|----|------|\n",
    "|0|Tory|32|Human||\n",
    "|1|Clyde|13|Cat|0|\n",
    "\n",
    "\n",
    "Using the above table, we could make the following RDF statements:\n",
    "\n",
    "```text\n",
    "Subject(People#0) -> Predicate(has_name) -> Object(Tory)\n",
    "Subject(People#1) -> Predicate(knows) -> Object(People#0)\n",
    "```"
   ]
  },
  {
   "cell_type": "code",
   "execution_count": 2,
   "id": "magnetic-legislature",
   "metadata": {},
   "outputs": [
    {
     "name": "stdout",
     "output_type": "stream",
     "text": [
      "Collecting rdflib\n",
      "  Downloading rdflib-5.0.0-py3-none-any.whl (231 kB)\n",
      "\u001b[K     |████████████████████████████████| 231 kB 6.5 MB/s eta 0:00:01\n",
      "\u001b[?25hCollecting rdflib-jsonld\n",
      "  Downloading rdflib-jsonld-0.5.0.tar.gz (55 kB)\n",
      "\u001b[K     |████████████████████████████████| 55 kB 3.3 MB/s eta 0:00:01\n",
      "\u001b[?25hCollecting isodate\n",
      "  Downloading isodate-0.6.0-py2.py3-none-any.whl (45 kB)\n",
      "\u001b[K     |████████████████████████████████| 45 kB 4.0 MB/s eta 0:00:01\n",
      "\u001b[?25hRequirement already satisfied: pyparsing in /opt/conda/lib/python3.8/site-packages (from rdflib) (2.4.7)\n",
      "Requirement already satisfied: six in /opt/conda/lib/python3.8/site-packages (from rdflib) (1.15.0)\n",
      "Building wheels for collected packages: rdflib-jsonld\n",
      "  Building wheel for rdflib-jsonld (setup.py) ... \u001b[?25ldone\n",
      "\u001b[?25h  Created wheel for rdflib-jsonld: filename=rdflib_jsonld-0.5.0-py2.py3-none-any.whl size=15348 sha256=dfd1c8ac2103d5f6d69e0657d1c92d84e2d1d0c3f91281a040fa449b82adb761\n",
      "  Stored in directory: /home/jovyan/.cache/pip/wheels/3a/97/90/e133cbb98e344c2ca55120f8d704f6ff57bdfd8e30f1dc5451\n",
      "Successfully built rdflib-jsonld\n",
      "Installing collected packages: isodate, rdflib, rdflib-jsonld\n",
      "Successfully installed isodate-0.6.0 rdflib-5.0.0 rdflib-jsonld-0.5.0\n"
     ]
    }
   ],
   "source": [
    "!pip install rdflib rdflib-jsonld\n",
    "import rdflib\n",
    "from rdflib.namespace import FOAF , XSD\n",
    "\n",
    "# create a Graph to store our RDF objects\n",
    "graph = rdflib.Graph()\n",
    "\n",
    "# Delcare our namespace to stuff all our stuff\n",
    "ns = rdflib.Namespace(\"http://example.org\")\n",
    "\n",
    "# Declare new types\n",
    "Person = rdflib.URIRef(ns + \"/person\")\n",
    "Human = rdflib.URIRef(ns + \"/human\")\n",
    "Cat = rdflib.URIRef(ns + \"/cat\")\n",
    "\n",
    "# Create our People\n",
    "Tory = rdflib.URIRef(Person + \"/0\")\n",
    "Clyde = rdflib.URIRef(Person + \"/1\")\n",
    "\n",
    "# Start populating the graphs\n",
    "graph.add( (Tory, FOAF.name, rdflib.Literal(\"Tory\")) )\n",
    "graph.add( (Tory, rdflib.RDF.type, Human ) )\n",
    "graph.add( (Tory, FOAF.age, rdflib.Literal(32) ) )\n",
    "\n",
    "graph.add( (Clyde, FOAF.name, rdflib.Literal(\"Clyde\")) )\n",
    "graph.add( (Clyde, rdflib.RDF.type, Cat) )\n",
    "graph.add( (Clyde, FOAF.age, rdflib.Literal(13) ) )\n",
    "graph.add( (Clyde, FOAF.knows, Tory ) )"
   ]
  },
  {
   "cell_type": "code",
   "execution_count": 3,
   "id": "impressed-organic",
   "metadata": {},
   "outputs": [
    {
     "name": "stdout",
     "output_type": "stream",
     "text": [
      "(rdflib.term.URIRef('http://example.org/person/1'), rdflib.term.URIRef('http://www.w3.org/1999/02/22-rdf-syntax-ns#type'), rdflib.term.URIRef('http://example.org/cat'))\n",
      "(rdflib.term.URIRef('http://example.org/person/1'), rdflib.term.URIRef('http://xmlns.com/foaf/0.1/name'), rdflib.term.Literal('Clyde'))\n",
      "(rdflib.term.URIRef('http://example.org/person/1'), rdflib.term.URIRef('http://xmlns.com/foaf/0.1/age'), rdflib.term.Literal('13', datatype=rdflib.term.URIRef('http://www.w3.org/2001/XMLSchema#integer')))\n",
      "(rdflib.term.URIRef('http://example.org/person/0'), rdflib.term.URIRef('http://xmlns.com/foaf/0.1/age'), rdflib.term.Literal('32', datatype=rdflib.term.URIRef('http://www.w3.org/2001/XMLSchema#integer')))\n",
      "(rdflib.term.URIRef('http://example.org/person/0'), rdflib.term.URIRef('http://xmlns.com/foaf/0.1/name'), rdflib.term.Literal('Tory'))\n",
      "(rdflib.term.URIRef('http://example.org/person/1'), rdflib.term.URIRef('http://xmlns.com/foaf/0.1/knows'), rdflib.term.URIRef('http://example.org/person/0'))\n",
      "(rdflib.term.URIRef('http://example.org/person/0'), rdflib.term.URIRef('http://www.w3.org/1999/02/22-rdf-syntax-ns#type'), rdflib.term.URIRef('http://example.org/human'))\n"
     ]
    }
   ],
   "source": [
    "for triple in graph:\n",
    "    print(triple)"
   ]
  },
  {
   "cell_type": "markdown",
   "id": "armed-guess",
   "metadata": {},
   "source": [
    "## RDF Serialization Formats\n",
    "\n",
    "Some common serialization formats include:\n",
    "\n",
    "* XML (Extensible Markup Language)\n",
    "* N3 (Notation3)\n",
    "* TTL (Terse RDF Triple Language)\n",
    "* JSON-LD (JSON for Linked-Data)\n",
    "* And MANY more!"
   ]
  },
  {
   "cell_type": "code",
   "execution_count": 4,
   "id": "effective-clinic",
   "metadata": {},
   "outputs": [
    {
     "name": "stdout",
     "output_type": "stream",
     "text": [
      "==================== xml ====================\n",
      "<?xml version=\"1.0\" encoding=\"UTF-8\"?>\n",
      "<rdf:RDF\n",
      "   xmlns:ns1=\"http://xmlns.com/foaf/0.1/\"\n",
      "   xmlns:rdf=\"http://www.w3.org/1999/02/22-rdf-syntax-ns#\"\n",
      ">\n",
      "  <rdf:Description rdf:about=\"http://example.org/person/1\">\n",
      "    <rdf:type rdf:resource=\"http://example.org/cat\"/>\n",
      "    <ns1:name>Clyde</ns1:name>\n",
      "    <ns1:age rdf:datatype=\"http://www.w3.org/2001/XMLSchema#integer\">13</ns1:age>\n",
      "    <ns1:knows rdf:resource=\"http://example.org/person/0\"/>\n",
      "  </rdf:Description>\n",
      "  <rdf:Description rdf:about=\"http://example.org/person/0\">\n",
      "    <ns1:age rdf:datatype=\"http://www.w3.org/2001/XMLSchema#integer\">32</ns1:age>\n",
      "    <ns1:name>Tory</ns1:name>\n",
      "    <rdf:type rdf:resource=\"http://example.org/human\"/>\n",
      "  </rdf:Description>\n",
      "</rdf:RDF>\n",
      "\n",
      "==================== n3 ====================\n",
      "@prefix ns1: <http://xmlns.com/foaf/0.1/> .\n",
      "@prefix xsd: <http://www.w3.org/2001/XMLSchema#> .\n",
      "\n",
      "<http://example.org/person/1> a <http://example.org/cat> ;\n",
      "    ns1:age 13 ;\n",
      "    ns1:knows <http://example.org/person/0> ;\n",
      "    ns1:name \"Clyde\" .\n",
      "\n",
      "<http://example.org/person/0> a <http://example.org/human> ;\n",
      "    ns1:age 32 ;\n",
      "    ns1:name \"Tory\" .\n",
      "\n",
      "\n",
      "==================== ttl ====================\n",
      "@prefix ns1: <http://xmlns.com/foaf/0.1/> .\n",
      "@prefix xsd: <http://www.w3.org/2001/XMLSchema#> .\n",
      "\n",
      "<http://example.org/person/1> a <http://example.org/cat> ;\n",
      "    ns1:age 13 ;\n",
      "    ns1:knows <http://example.org/person/0> ;\n",
      "    ns1:name \"Clyde\" .\n",
      "\n",
      "<http://example.org/person/0> a <http://example.org/human> ;\n",
      "    ns1:age 32 ;\n",
      "    ns1:name \"Tory\" .\n",
      "\n",
      "\n",
      "==================== json-ld ====================\n",
      "[\n",
      "  {\n",
      "    \"@id\": \"http://example.org/person/1\",\n",
      "    \"@type\": [\n",
      "      \"http://example.org/cat\"\n",
      "    ],\n",
      "    \"http://xmlns.com/foaf/0.1/age\": [\n",
      "      {\n",
      "        \"@value\": 13\n",
      "      }\n",
      "    ],\n",
      "    \"http://xmlns.com/foaf/0.1/knows\": [\n",
      "      {\n",
      "        \"@id\": \"http://example.org/person/0\"\n",
      "      }\n",
      "    ],\n",
      "    \"http://xmlns.com/foaf/0.1/name\": [\n",
      "      {\n",
      "        \"@value\": \"Clyde\"\n",
      "      }\n",
      "    ]\n",
      "  },\n",
      "  {\n",
      "    \"@id\": \"http://example.org/person/0\",\n",
      "    \"@type\": [\n",
      "      \"http://example.org/human\"\n",
      "    ],\n",
      "    \"http://xmlns.com/foaf/0.1/age\": [\n",
      "      {\n",
      "        \"@value\": 32\n",
      "      }\n",
      "    ],\n",
      "    \"http://xmlns.com/foaf/0.1/name\": [\n",
      "      {\n",
      "        \"@value\": \"Tory\"\n",
      "      }\n",
      "    ]\n",
      "  }\n",
      "]\n"
     ]
    }
   ],
   "source": [
    "for fmt in [\"xml\", \"n3\", \"ttl\", \"json-ld\"]:\n",
    "    print(\"=\" * 20, fmt, \"=\" * 20)\n",
    "    print(graph.serialize(format=fmt).decode())"
   ]
  },
  {
   "cell_type": "markdown",
   "id": "alpine-lottery",
   "metadata": {},
   "source": [
    "## Applying Semantics to Linked Data\n",
    "\n",
    "The simplest version of the [data pyramid](https://en.wikipedia.org/wiki/DIKW_pyramid) goes:\n",
    "\n",
    "Data -> Information -> Knowledge -> Wisdom\n",
    "\n",
    "Data is a collection of observations stated as facts.\n",
    "\n",
    "Information is inferred from data by extracting the useful parts out of the data. This is normally done through some sort of ETL (Extract. Transform. Load) process.\n",
    "\n",
    "Knowledge is information that is enriched with domain knowledge to add context to the information, or a combination of multiple sources of information to add context that would otherwise not have that context when standing alone.\n",
    "\n",
    "Wisdom is the shared understanding of the knowledge and how to apply it to business objects, and why it is useful.\n",
    "\n",
    "The value or cell in a database somewhere represents a data point. Each triple in our graph represents a single piece of information. The graph as a whole represents our collection of information. The next step is to apply domain knowledge to lift the information graph to a knowledge graph.\n",
    "\n",
    "The way we will encode and apply our domain knowledge is by using an ontology."
   ]
  },
  {
   "cell_type": "markdown",
   "id": "variable-correspondence",
   "metadata": {},
   "source": [
    "## Vocabularies, Ontologies, and Schemas\n",
    "\n",
    "The two most common ways to encode domain knowledge are:\n",
    "\n",
    "1. [RDFS (RDF Schema)](https://www.w3.org/TR/rdf-schema/)\n",
    "2. [OWL (Web Ontology Language)](https://www.w3.org/TR/owl-overview/)\n",
    "\n",
    "Vocabularies are themselves also just RDF graphs, but contain an encoding of domain knowledge and a set of constraints to validate or extend an existing knowledge graph.\n",
    "\n",
    "Lets start by bringing in the ontology for foaf (Friend of a Friend), the social network encoding ontology used in our previous example."
   ]
  },
  {
   "cell_type": "code",
   "execution_count": 5,
   "id": "curious-substance",
   "metadata": {},
   "outputs": [
    {
     "name": "stdout",
     "output_type": "stream",
     "text": [
      "Triples(631), Subjects(86), Predicates(15), Objects(192)\n"
     ]
    }
   ],
   "source": [
    "ontology = rdflib.Graph()\n",
    "\n",
    "url = \"http://xmlns.com/foaf/spec/20140114.rdf\"\n",
    "namespace = rdflib.Namespace(\"http://xmlns.com/foaf/0.1/\")\n",
    "\n",
    "ontology.parse(url)\n",
    "\n",
    "subjects = set(ontology.subjects())\n",
    "predicates = set(ontology.predicates())\n",
    "objects = set(ontology.objects())\n",
    "\n",
    "print(f\"Triples({len(ontology)}), Subjects({len(subjects)}), Predicates({len(predicates)}), Objects({len(objects)})\")"
   ]
  },
  {
   "cell_type": "markdown",
   "id": "digital-trigger",
   "metadata": {},
   "source": [
    "From here, we are able to categorize our subjects into two groups:\n",
    "\n",
    "1. Subjects that belong to the FOAF namespace\n",
    "2. External subjects that enrich the FOAF namespace items"
   ]
  },
  {
   "cell_type": "code",
   "execution_count": 6,
   "id": "reflected-understanding",
   "metadata": {},
   "outputs": [
    {
     "name": "stdout",
     "output_type": "stream",
     "text": [
      "Internal(76), External(10)\n"
     ]
    }
   ],
   "source": [
    "internal_subjects = set(sub for sub in subjects if sub.startswith(namespace))\n",
    "external_subjects = subjects - internal_subjects\n",
    "\n",
    "print(f\"Internal({len(internal_subjects)}), External({len(external_subjects)})\")"
   ]
  },
  {
   "cell_type": "code",
   "execution_count": 7,
   "id": "efficient-census",
   "metadata": {},
   "outputs": [],
   "source": [
    "from collections import namedtuple\n",
    "\n",
    "IRIRef = namedtuple(\"IRIRef\", (\"iri\", \"delim\", \"urn\"))\n",
    "\n",
    "def split(item):\n",
    "    if not isinstance(item, rdflib.term.URIRef):\n",
    "        return item\n",
    "    iri, delim, urn = item.rpartition(\"#\" if \"#\" in item else \"/\")\n",
    "    return IRIRef(iri, delim, urn)"
   ]
  },
  {
   "cell_type": "code",
   "execution_count": 8,
   "id": "moderate-champion",
   "metadata": {},
   "outputs": [
    {
     "data": {
      "text/plain": [
       "['name',\n",
       " 'accountName',\n",
       " 'tipjar',\n",
       " 'depiction',\n",
       " 'geekcode',\n",
       " 'schoolHomepage',\n",
       " 'interest',\n",
       " 'based_near',\n",
       " '',\n",
       " 'page',\n",
       " 'gender',\n",
       " 'family_name',\n",
       " 'focus',\n",
       " 'familyName',\n",
       " 'OnlineEcommerceAccount',\n",
       " 'holdsAccount',\n",
       " 'pastProject',\n",
       " 'age',\n",
       " 'fundedBy',\n",
       " 'givenName',\n",
       " 'Agent',\n",
       " 'skypeID',\n",
       " 'OnlineAccount',\n",
       " 'topic_interest',\n",
       " 'currentProject',\n",
       " 'member',\n",
       " 'OnlineGamingAccount',\n",
       " 'surname',\n",
       " 'dnaChecksum',\n",
       " 'Document',\n",
       " 'Group',\n",
       " 'mbox_sha1sum',\n",
       " 'nick',\n",
       " 'topic',\n",
       " 'aimChatID',\n",
       " 'plan',\n",
       " 'Organization',\n",
       " 'primaryTopic',\n",
       " 'theme',\n",
       " 'knows',\n",
       " 'Person',\n",
       " 'account',\n",
       " 'icqChatID',\n",
       " 'Project',\n",
       " 'sha1',\n",
       " 'homepage',\n",
       " 'depicts',\n",
       " 'birthday',\n",
       " 'openid',\n",
       " 'lastName',\n",
       " 'jabberID',\n",
       " 'OnlineChatAccount',\n",
       " 'membershipClass',\n",
       " 'maker',\n",
       " 'LabelProperty',\n",
       " 'accountServiceHomepage',\n",
       " 'firstName',\n",
       " 'workInfoHomepage',\n",
       " 'phone',\n",
       " 'workplaceHomepage',\n",
       " 'isPrimaryTopicOf',\n",
       " 'weblog',\n",
       " 'myersBriggs',\n",
       " 'Image',\n",
       " 'thumbnail',\n",
       " 'logo',\n",
       " 'msnChatID',\n",
       " 'publications',\n",
       " 'status',\n",
       " 'mbox',\n",
       " 'PersonalProfileDocument',\n",
       " 'yahooChatID',\n",
       " 'made',\n",
       " 'img',\n",
       " 'givenname',\n",
       " 'title']"
      ]
     },
     "execution_count": 8,
     "metadata": {},
     "output_type": "execute_result"
    }
   ],
   "source": [
    "[split(subject)[2] for subject in internal_subjects]"
   ]
  },
  {
   "cell_type": "code",
   "execution_count": 9,
   "id": "juvenile-stereo",
   "metadata": {},
   "outputs": [
    {
     "data": {
      "text/plain": [
       "[IRIRef(iri='http://www.w3.org/2003/01/geo/wgs84_pos', delim='#', urn='SpatialThing'),\n",
       " IRIRef(iri='http://purl.org/dc/elements/1.1', delim='/', urn='date'),\n",
       " IRIRef(iri='http://xmlns.com/wot/0.1', delim='/', urn='assurance'),\n",
       " IRIRef(iri='http://www.w3.org/2000/01/rdf-schema', delim='#', urn='Class'),\n",
       " IRIRef(iri='http://www.w3.org/2004/02/skos/core', delim='#', urn='Concept'),\n",
       " IRIRef(iri='http://xmlns.com/wot/0.1', delim='/', urn='src_assurance'),\n",
       " IRIRef(iri='http://www.w3.org/2002/07/owl', delim='#', urn='Thing'),\n",
       " IRIRef(iri='http://purl.org/dc/elements/1.1', delim='/', urn='title'),\n",
       " IRIRef(iri='http://www.w3.org/2003/06/sw-vocab-status/ns', delim='#', urn='term_status'),\n",
       " IRIRef(iri='http://purl.org/dc/elements/1.1', delim='/', urn='description')]"
      ]
     },
     "execution_count": 9,
     "metadata": {},
     "output_type": "execute_result"
    }
   ],
   "source": [
    "[split(subject) for subject in external_subjects]"
   ]
  },
  {
   "cell_type": "markdown",
   "id": "cultural-tunisia",
   "metadata": {},
   "source": [
    "In our example, the predicates are where things get interesting. Lets start by only looking at the namespaces brought in.\n",
    "\n",
    "In the below example, you can see we are bringing in predicates from not only multiple vocabularies, but multiple types or standards of vocabularies such as RDFS, and OWL standards. When building RDFs, you are encouraged to include as much sematics as possible, and you aren't required to stick to a single namespace, or even a single domain when describing your graph."
   ]
  },
  {
   "cell_type": "code",
   "execution_count": 10,
   "id": "chronic-oakland",
   "metadata": {},
   "outputs": [
    {
     "data": {
      "text/plain": [
       "{'http://purl.org/dc/elements/1.1',\n",
       " 'http://www.w3.org/1999/02/22-rdf-syntax-ns',\n",
       " 'http://www.w3.org/2000/01/rdf-schema',\n",
       " 'http://www.w3.org/2002/07/owl',\n",
       " 'http://www.w3.org/2003/06/sw-vocab-status/ns'}"
      ]
     },
     "execution_count": 10,
     "metadata": {},
     "output_type": "execute_result"
    }
   ],
   "source": [
    "set(split(predicate)[0] for predicate in predicates)"
   ]
  },
  {
   "cell_type": "code",
   "execution_count": 11,
   "id": "impressive-copying",
   "metadata": {},
   "outputs": [
    {
     "data": {
      "text/plain": [
       "{IRIRef(iri='http://purl.org/dc/elements/1.1', delim='/', urn='description'),\n",
       " IRIRef(iri='http://purl.org/dc/elements/1.1', delim='/', urn='title'),\n",
       " IRIRef(iri='http://www.w3.org/1999/02/22-rdf-syntax-ns', delim='#', urn='type'),\n",
       " IRIRef(iri='http://www.w3.org/2000/01/rdf-schema', delim='#', urn='comment'),\n",
       " IRIRef(iri='http://www.w3.org/2000/01/rdf-schema', delim='#', urn='domain'),\n",
       " IRIRef(iri='http://www.w3.org/2000/01/rdf-schema', delim='#', urn='isDefinedBy'),\n",
       " IRIRef(iri='http://www.w3.org/2000/01/rdf-schema', delim='#', urn='label'),\n",
       " IRIRef(iri='http://www.w3.org/2000/01/rdf-schema', delim='#', urn='range'),\n",
       " IRIRef(iri='http://www.w3.org/2000/01/rdf-schema', delim='#', urn='subClassOf'),\n",
       " IRIRef(iri='http://www.w3.org/2000/01/rdf-schema', delim='#', urn='subPropertyOf'),\n",
       " IRIRef(iri='http://www.w3.org/2002/07/owl', delim='#', urn='disjointWith'),\n",
       " IRIRef(iri='http://www.w3.org/2002/07/owl', delim='#', urn='equivalentClass'),\n",
       " IRIRef(iri='http://www.w3.org/2002/07/owl', delim='#', urn='equivalentProperty'),\n",
       " IRIRef(iri='http://www.w3.org/2002/07/owl', delim='#', urn='inverseOf'),\n",
       " IRIRef(iri='http://www.w3.org/2003/06/sw-vocab-status/ns', delim='#', urn='term_status')}"
      ]
     },
     "execution_count": 11,
     "metadata": {},
     "output_type": "execute_result"
    }
   ],
   "source": [
    "set(split(predicate) for predicate in predicates)"
   ]
  },
  {
   "cell_type": "markdown",
   "id": "romance-stupid",
   "metadata": {},
   "source": [
    "While most RDF graphs describe relationships in your data, a vocabulary describes the relationships in your TYPES of data. In this case, a vocabulary is similar to a UML diagram that would descibe the relationships between python classes and python subclasses, to include base types (see the above \"http://www.w3.org/1999/02/22-rdf-syntax-ns\" and \"http://purl.org/dc/elements/1.1\")"
   ]
  },
  {
   "cell_type": "markdown",
   "id": "quiet-trauma",
   "metadata": {},
   "source": [
    "Next, lets look at objects that are references (not literal or blank nodes) that are not internal references inside the namespace. This will tell us how FOAF depends on external vocabularies."
   ]
  },
  {
   "cell_type": "code",
   "execution_count": 12,
   "id": "appreciated-tablet",
   "metadata": {},
   "outputs": [
    {
     "data": {
      "text/plain": [
       "(IRIRef(iri='http://schema.org', delim='/', urn='ImageObject'),\n",
       " IRIRef(iri='http://www.w3.org/2000/01/rdf-schema', delim='#', urn='subClassOf'),\n",
       " IRIRef(iri='http://www.w3.org/2000/01/rdf-schema', delim='#', urn='range'),\n",
       " IRIRef(iri='http://www.w3.org/2000/01/rdf-schema', delim='#', urn='comment'),\n",
       " IRIRef(iri='http://www.w3.org/1999/02/22-rdf-syntax-ns', delim='#', urn='Property'),\n",
       " IRIRef(iri='http://www.w3.org/2002/07/owl', delim='#', urn='AnnotationProperty'),\n",
       " IRIRef(iri='http://www.w3.org/2000/01/rdf-schema', delim='#', urn='Literal'),\n",
       " IRIRef(iri='http://www.w3.org/2002/07/owl', delim='#', urn='disjointWith'),\n",
       " IRIRef(iri='http://www.w3.org/2002/07/owl', delim='#', urn='Ontology'),\n",
       " IRIRef(iri='http://www.w3.org/1999/02/22-rdf-syntax-ns', delim='#', urn='type'),\n",
       " IRIRef(iri='http://www.w3.org/2002/07/owl', delim='#', urn='Class'),\n",
       " IRIRef(iri='http://www.w3.org/2002/07/owl', delim='#', urn='ObjectProperty'),\n",
       " IRIRef(iri='http://www.w3.org/2002/07/owl', delim='#', urn='equivalentClass'),\n",
       " IRIRef(iri='http://www.w3.org/2002/07/owl', delim='#', urn='inverseOf'),\n",
       " IRIRef(iri='http://schema.org', delim='/', urn='Person'),\n",
       " IRIRef(iri='http://www.w3.org/2000/01/rdf-schema', delim='#', urn='domain'),\n",
       " IRIRef(iri='http://www.w3.org/2002/07/owl', delim='#', urn='InverseFunctionalProperty'),\n",
       " IRIRef(iri='http://purl.org/dc/terms', delim='/', urn='Agent'),\n",
       " IRIRef(iri='http://www.w3.org/2002/07/owl', delim='#', urn='DatatypeProperty'),\n",
       " IRIRef(iri='http://purl.org/dc/terms', delim='/', urn='creator'),\n",
       " IRIRef(iri='http://www.w3.org/2000/01/rdf-schema', delim='#', urn='isDefinedBy'),\n",
       " IRIRef(iri='http://www.w3.org/2002/07/owl', delim='#', urn='equivalentProperty'),\n",
       " IRIRef(iri='http://www.w3.org/2000/01/rdf-schema', delim='#', urn='label'),\n",
       " IRIRef(iri='http://www.w3.org/2000/10/swap/pim/contact', delim='#', urn='Person'),\n",
       " IRIRef(iri='http://www.w3.org/2002/07/owl', delim='#', urn='FunctionalProperty'),\n",
       " IRIRef(iri='http://schema.org', delim='/', urn='CreativeWork'),\n",
       " IRIRef(iri='http://www.w3.org/2000/01/rdf-schema', delim='#', urn='subPropertyOf'))"
      ]
     },
     "execution_count": 12,
     "metadata": {},
     "output_type": "execute_result"
    }
   ],
   "source": [
    "foreign_references = tuple(split(i) for i in predicates.union(objects).difference(subjects) if isinstance(i, rdflib.term.URIRef))\n",
    "foreign_references"
   ]
  },
  {
   "cell_type": "code",
   "execution_count": 13,
   "id": "shared-parking",
   "metadata": {},
   "outputs": [
    {
     "name": "stdout",
     "output_type": "stream",
     "text": [
      "Collecting owlrl\n",
      "  Downloading owlrl-5.2.1-py3-none-any.whl (56 kB)\n",
      "\u001b[K     |████████████████████████████████| 56 kB 3.9 MB/s eta 0:00:011\n",
      "\u001b[?25hRequirement already satisfied: rdflib-jsonld>=0.4.0 in /opt/conda/lib/python3.8/site-packages (from owlrl) (0.5.0)\n",
      "Requirement already satisfied: rdflib>=4.2.2 in /opt/conda/lib/python3.8/site-packages (from owlrl) (5.0.0)\n",
      "Requirement already satisfied: isodate in /opt/conda/lib/python3.8/site-packages (from rdflib>=4.2.2->owlrl) (0.6.0)\n",
      "Requirement already satisfied: six in /opt/conda/lib/python3.8/site-packages (from rdflib>=4.2.2->owlrl) (1.15.0)\n",
      "Requirement already satisfied: pyparsing in /opt/conda/lib/python3.8/site-packages (from rdflib>=4.2.2->owlrl) (2.4.7)\n",
      "Installing collected packages: owlrl\n",
      "Successfully installed owlrl-5.2.1\n",
      "The original graph contained 7 triples and the ontoloty contained 631 triples. But after automated deductive reasoning it now contains 2362 triples!\n"
     ]
    }
   ],
   "source": [
    "!pip install owlrl\n",
    "\n",
    "import owlrl\n",
    "\n",
    "combined_graph = graph + ontology\n",
    "\n",
    "owlrl.DeductiveClosure(owlrl.CombinedClosure.RDFS_OWLRL_Semantics).expand(combined_graph)\n",
    "print(f\"The original graph contained {len(graph)} triples and the ontoloty contained {len(ontology)} triples. But after automated deductive reasoning it now contains {len(combined_graph)} triples!\")"
   ]
  },
  {
   "cell_type": "code",
   "execution_count": 14,
   "id": "animal-attack",
   "metadata": {},
   "outputs": [
    {
     "name": "stdout",
     "output_type": "stream",
     "text": [
      "IRIRef(iri='http://www.w3.org/1999/02/22-rdf-syntax-ns', delim='#', urn='type') IRIRef(iri='http://www.w3.org/2000/10/swap/pim/contact', delim='#', urn='Person')\n",
      "IRIRef(iri='http://www.w3.org/1999/02/22-rdf-syntax-ns', delim='#', urn='type') IRIRef(iri='http://schema.org', delim='/', urn='Person')\n",
      "IRIRef(iri='http://www.w3.org/1999/02/22-rdf-syntax-ns', delim='#', urn='type') IRIRef(iri='http://www.w3.org/2003/01/geo/wgs84_pos', delim='#', urn='SpatialThing')\n",
      "IRIRef(iri='http://www.w3.org/1999/02/22-rdf-syntax-ns', delim='#', urn='type') IRIRef(iri='http://xmlns.com/foaf/0.1', delim='/', urn='Person')\n",
      "IRIRef(iri='http://www.w3.org/1999/02/22-rdf-syntax-ns', delim='#', urn='type') IRIRef(iri='http://xmlns.com/foaf/0.1', delim='/', urn='Agent')\n",
      "IRIRef(iri='http://www.w3.org/1999/02/22-rdf-syntax-ns', delim='#', urn='type') IRIRef(iri='http://www.w3.org/2002/07/owl', delim='#', urn='Thing')\n",
      "IRIRef(iri='http://www.w3.org/2000/01/rdf-schema', delim='#', urn='label') Clyde\n",
      "IRIRef(iri='http://www.w3.org/1999/02/22-rdf-syntax-ns', delim='#', urn='type') IRIRef(iri='http://www.w3.org/2000/01/rdf-schema', delim='#', urn='Resource')\n",
      "IRIRef(iri='http://www.w3.org/1999/02/22-rdf-syntax-ns', delim='#', urn='type') IRIRef(iri='http://purl.org/dc/terms', delim='/', urn='Agent')\n",
      "IRIRef(iri='http://www.w3.org/2002/07/owl', delim='#', urn='sameAs') IRIRef(iri='http://example.org/person', delim='/', urn='1')\n"
     ]
    }
   ],
   "source": [
    "# Search the combined graph for all triples where Clyde is the Subject\n",
    "\n",
    "for s, p, o in combined_graph.triples( (Clyde, None, None) ):  # None is considered a wildcard for iteration purposes\n",
    "    if (s, p, o) in graph:\n",
    "        continue  # Skip items in original graph, we only want to see new data that was learned through deductive reasoning\n",
    "    print(split(p), split(o))"
   ]
  },
  {
   "cell_type": "code",
   "execution_count": 15,
   "id": "compatible-marine",
   "metadata": {},
   "outputs": [
    {
     "name": "stdout",
     "output_type": "stream",
     "text": [
      "IRIRef(iri='http://example.org/person', delim='/', urn='1')\n",
      "\tIRIRef(iri='http://www.w3.org/2002/07/owl', delim='#', urn='sameAs')\n",
      "\tIRIRef(iri='http://example.org/person', delim='/', urn='1')\n"
     ]
    }
   ],
   "source": [
    "# Search the combined graph for all triples where Clyde is the Object\n",
    "\n",
    "for s, p, o in combined_graph.triples( (None, None, Clyde) ):  # None is considered a wildcard for iteration purposes\n",
    "    if (s, p, o) in graph:\n",
    "        continue  # Skip items in original graph, we only want to see new data that was learned through deductive reasoning\n",
    "    print(f\"{split(s)}\\n\\t{split(p)}\\n\\t{split(o)}\")"
   ]
  },
  {
   "cell_type": "code",
   "execution_count": null,
   "id": "decreased-university",
   "metadata": {},
   "outputs": [],
   "source": []
  },
  {
   "cell_type": "code",
   "execution_count": null,
   "id": "great-complex",
   "metadata": {},
   "outputs": [],
   "source": []
  }
 ],
 "metadata": {
  "kernelspec": {
   "display_name": "Python 3",
   "language": "python",
   "name": "python3"
  },
  "language_info": {
   "codemirror_mode": {
    "name": "ipython",
    "version": 3
   },
   "file_extension": ".py",
   "mimetype": "text/x-python",
   "name": "python",
   "nbconvert_exporter": "python",
   "pygments_lexer": "ipython3",
   "version": "3.8.8"
  }
 },
 "nbformat": 4,
 "nbformat_minor": 5
}
